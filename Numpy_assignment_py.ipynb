{
  "nbformat": 4,
  "nbformat_minor": 0,
  "metadata": {
    "kernelspec": {
      "display_name": "Python 3",
      "language": "python",
      "name": "python3"
    },
    "language_info": {
      "codemirror_mode": {
        "name": "ipython",
        "version": 3
      },
      "file_extension": ".py",
      "mimetype": "text/x-python",
      "name": "python",
      "nbconvert_exporter": "python",
      "pygments_lexer": "ipython3",
      "version": "3.8.3"
    },
    "colab": {
      "name": "Numpy assignment.py.ipynb",
      "provenance": []
    }
  },
  "cells": [
    {
      "cell_type": "markdown",
      "metadata": {
        "id": "hBuWaACHwEIh"
      },
      "source": [
        "Write a function so that the columns of the output matrix are powers of the input\n",
        "vector.\n",
        "The order of the powers is determined by the increasing boolean argument. Specifically, when\n",
        "increasing is False, the i-th output column is the input vector raised element-wise to the power\n",
        "of N - i - 1.\n",
        "\n",
        "HINT: Such a matrix with a geometric progression in each row is named for Alexandre-\n",
        "Theophile Vandermonde."
      ]
    },
    {
      "cell_type": "code",
      "metadata": {
        "id": "muEQ6cNRwEIm",
        "outputId": "835c1778-3fbf-4bf0-b0bb-95f10f24804e"
      },
      "source": [
        "import numpy as np \n",
        "x=np.array([4,5,6,7,8])\n",
        "N=5\n",
        "matrix1 = np.vander(x,N,increasing=False) \n",
        "print(matrix1) "
      ],
      "execution_count": null,
      "outputs": [
        {
          "output_type": "stream",
          "text": [
            "[[ 256   64   16    4    1]\n",
            " [ 625  125   25    5    1]\n",
            " [1296  216   36    6    1]\n",
            " [2401  343   49    7    1]\n",
            " [4096  512   64    8    1]]\n"
          ],
          "name": "stdout"
        }
      ]
    },
    {
      "cell_type": "markdown",
      "metadata": {
        "id": "J9i0Ls_SwKRF"
      },
      "source": [
        "# New Section"
      ]
    },
    {
      "cell_type": "code",
      "metadata": {
        "id": "ZTXJMdu0wEIo",
        "outputId": "513b93d1-dda8-4ce4-f37e-75096c16d9ed"
      },
      "source": [
        "def gen_vander_matrix(ipvector, n, increasing=False):\n",
        "    \n",
        "    if not increasing:\n",
        "        op_matx = np.array([x**(n-1-i) for x in ipvector for i in range(n)]).reshape(ipvector.size,n)\n",
        "    elif increasing:\n",
        "        op_matx = np.array([x**i for x in ipvector for i in range(n)]).reshape(ipvector.size,n)\n",
        "    \n",
        "    return op_matx\n",
        "\n",
        "inputvector = np.array([1,2,3,4,5])\n",
        "no_col_opmat = 5\n",
        "op_matx_dec_order = gen_vander_matrix(inputvector,no_col_opmat,False)\n",
        "op_matx_dec_order"
      ],
      "execution_count": null,
      "outputs": [
        {
          "output_type": "execute_result",
          "data": {
            "text/plain": [
              "array([[  1,   1,   1,   1,   1],\n",
              "       [ 16,   8,   4,   2,   1],\n",
              "       [ 81,  27,   9,   3,   1],\n",
              "       [256,  64,  16,   4,   1],\n",
              "       [625, 125,  25,   5,   1]])"
            ]
          },
          "metadata": {
            "tags": []
          },
          "execution_count": 43
        }
      ]
    },
    {
      "cell_type": "code",
      "metadata": {
        "id": "SBap5t3swEIp",
        "outputId": "1271bd37-869f-4829-a33c-ca3625376dbe"
      },
      "source": [
        "x = np.array([1, 2, 3, 4, 5])\n",
        "N = 5\n",
        "matrix = np.vander(x,N) \n",
        "matrix"
      ],
      "execution_count": null,
      "outputs": [
        {
          "output_type": "execute_result",
          "data": {
            "text/plain": [
              "array([[  1,   1,   1,   1,   1],\n",
              "       [ 16,   8,   4,   2,   1],\n",
              "       [ 81,  27,   9,   3,   1],\n",
              "       [256,  64,  16,   4,   1],\n",
              "       [625, 125,  25,   5,   1]])"
            ]
          },
          "metadata": {
            "tags": []
          },
          "execution_count": 38
        }
      ]
    },
    {
      "cell_type": "markdown",
      "metadata": {
        "id": "g9nUnXh-wEIq"
      },
      "source": [
        "Given a sequence of n values x1, x2, ..., xn and a window size k>0, the k-th moving average of the given sequence is defined as follows: The moving average sequence has n-k+1 elements as shown below. The moving averages with k=4 of a ten-value sequence (n=10) is shown below \n",
        "i 1 2 3 4 5 6 7 8 9 10 \n",
        "===== == == == == == == == == == == \n",
        "Input 10 20 30 40 50 60 70 80 90 100 \n",
        "y1 25 = (10+20+30+40)/4 \n",
        "y2 35 = (20+30+40+50)/4 \n",
        "y3 45 = (30+40+50+60)/4 \n",
        "y4 55 = (40+50+60+70)/4 \n",
        "y5 65 = (50+60+70+80)/4 \n",
        "y6 75 = (60+70+80+90)/4 \n",
        "y7 85 = (70+80+90+100)/4\n",
        "\n",
        "Question: Write a function to find moving average in an array over a window:\n",
        "Test it over [3, 5, 7, 2, 8, 10, 11, 65, 72, 81, 99, 100, 150] and window of 3."
      ]
    },
    {
      "cell_type": "code",
      "metadata": {
        "id": "mhDFdX6zwEIr",
        "outputId": "d606469c-2a0c-4435-eeca-69bdcbeb81dc"
      },
      "source": [
        "import numpy as np\n",
        "def moving_average(a, n=3) :\n",
        "    ret = np.cumsum(a, dtype=float)\n",
        "    ret[n:] = ret[n:] - ret[:-n]\n",
        "    return ret[n - 1:] / n\n",
        "a = [3, 5, 7, 2, 8, 10, 11, 65, 72, 81, 99, 100, 150]\n",
        "print(moving_average(a, n=3))"
      ],
      "execution_count": null,
      "outputs": [
        {
          "output_type": "stream",
          "text": [
            "[  5.           4.66666667   5.66666667   6.66666667   9.66666667\n",
            "  28.66666667  49.33333333  72.66666667  84.          93.33333333\n",
            " 116.33333333]\n"
          ],
          "name": "stdout"
        }
      ]
    },
    {
      "cell_type": "code",
      "metadata": {
        "id": "g0bhTiqHwEIs",
        "outputId": "31d6f009-a245-4c34-f8dd-6d890812a182"
      },
      "source": [
        "def mov_avg_val(mylist, N):\n",
        "    cumsum, moving_aves = [0], []\n",
        "    for i, x in enumerate(mylist, 1):\n",
        "        cumsum.append(cumsum[i-1] + x)\n",
        "        if i>=N:\n",
        "            moving_ave = round(((cumsum[i] - cumsum[i-N])/N),2) \n",
        "            \n",
        "            moving_aves.append(moving_ave) \n",
        "    print(\"Moving average : \", moving_aves)\n",
        "    print(\"Length of list l-N+1: \", len(moving_aves))\n",
        "    \n",
        "mylist = [3, 5, 7, 2, 8, 10, 11, 65, 72, 81, 99, 100, 150]\n",
        "N = 3\n",
        "mov_avg_val(mylist,N)    \n"
      ],
      "execution_count": null,
      "outputs": [
        {
          "output_type": "stream",
          "text": [
            "Moving average values list:  [5.0, 4.67, 5.67, 6.67, 9.67, 28.67, 49.33, 72.67, 84.0, 93.33, 116.33]\n",
            "Length of the list l-N+1:  11\n"
          ],
          "name": "stdout"
        }
      ]
    },
    {
      "cell_type": "code",
      "metadata": {
        "id": "BhIj5SPzwEIs",
        "outputId": "05f717e0-0995-4cee-f78a-1d0b3d9b5860"
      },
      "source": [
        "def moving_average(x, w):\n",
        "    return np.convolve(x, np.ones(w), 'valid') / w\n",
        "x = np.array([3, 5, 7, 2, 8, 10, 11, 65, 72, 81, 99, 100, 150])\n",
        "moving_average(x, 3)"
      ],
      "execution_count": null,
      "outputs": [
        {
          "output_type": "execute_result",
          "data": {
            "text/plain": [
              "array([  5.        ,   4.66666667,   5.66666667,   6.66666667,\n",
              "         9.66666667,  28.66666667,  49.33333333,  72.66666667,\n",
              "        84.        ,  93.33333333, 116.33333333])"
            ]
          },
          "metadata": {
            "tags": []
          },
          "execution_count": 47
        }
      ]
    },
    {
      "cell_type": "code",
      "metadata": {
        "id": "k1VAxNdQwEIt"
      },
      "source": [
        ""
      ],
      "execution_count": null,
      "outputs": []
    }
  ]
}